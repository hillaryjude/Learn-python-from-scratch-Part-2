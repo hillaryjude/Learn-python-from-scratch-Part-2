{
 "cells": [
  {
   "cell_type": "markdown",
   "metadata": {
    "id": "eYH77B214bUs"
   },
   "source": [
    "# Control Flow"
   ]
  },
  {
   "cell_type": "markdown",
   "metadata": {},
   "source": [
    "## String operations"
   ]
  },
  {
   "cell_type": "code",
   "execution_count": 1,
   "metadata": {},
   "outputs": [
    {
     "name": "stdout",
     "output_type": "stream",
     "text": [
      "hello world\n"
     ]
    }
   ],
   "source": [
    "H = \"hello world \"\n",
    "print(H.strip())"
   ]
  },
  {
   "cell_type": "code",
   "execution_count": 2,
   "metadata": {},
   "outputs": [
    {
     "data": {
      "text/plain": [
       "'howlo world '"
      ]
     },
     "execution_count": 2,
     "metadata": {},
     "output_type": "execute_result"
    }
   ],
   "source": [
    "H.replace(\"el\",\"ow\")"
   ]
  },
  {
   "cell_type": "code",
   "execution_count": 3,
   "metadata": {},
   "outputs": [
    {
     "data": {
      "text/plain": [
       "['hello', 'world']"
      ]
     },
     "execution_count": 3,
     "metadata": {},
     "output_type": "execute_result"
    }
   ],
   "source": [
    "H.split()"
   ]
  },
  {
   "cell_type": "code",
   "execution_count": 4,
   "metadata": {
    "colab": {
     "base_uri": "https://localhost:8080/"
    },
    "executionInfo": {
     "elapsed": 489,
     "status": "ok",
     "timestamp": 1726323586088,
     "user": {
      "displayName": "Hillary Jude",
      "userId": "17943637264411223929"
     },
     "user_tz": -330
    },
    "id": "YSU_8Myo5aEB",
    "outputId": "b8cb9e79-86d1-45ee-fa8e-3ff0587f9bac"
   },
   "outputs": [
    {
     "data": {
      "text/plain": [
       "14"
      ]
     },
     "execution_count": 4,
     "metadata": {},
     "output_type": "execute_result"
    }
   ],
   "source": [
    "6+8"
   ]
  },
  {
   "cell_type": "markdown",
   "metadata": {},
   "source": [
    "#### Placeholder and modifier"
   ]
  },
  {
   "cell_type": "code",
   "execution_count": 5,
   "metadata": {},
   "outputs": [
    {
     "name": "stdout",
     "output_type": "stream",
     "text": [
      "theodor is earning 3600.00 bucks every day\n"
     ]
    }
   ],
   "source": [
    "print(f\"theodor is earning {36*100:.2f} bucks every day\")"
   ]
  },
  {
   "cell_type": "markdown",
   "metadata": {},
   "source": [
    "#### Escape characters"
   ]
  },
  {
   "cell_type": "code",
   "execution_count": 6,
   "metadata": {},
   "outputs": [
    {
     "name": "stdout",
     "output_type": "stream",
     "text": [
      "\"Theatricality and perceptions are powerful agents\" - Batman\n"
     ]
    }
   ],
   "source": [
    "print(\"\\\"Theatricality and perceptions are powerful agents\\\" - Batman\")"
   ]
  },
  {
   "cell_type": "markdown",
   "metadata": {},
   "source": [
    "#### String methods"
   ]
  },
  {
   "cell_type": "raw",
   "metadata": {},
   "source": [
    "capitalize()\tConverts the first character to upper case\n",
    "casefold()\tConverts string into lower case\n",
    "center()\tReturns a centered string\n",
    "count()\tReturns the number of times a specified value occurs in a string\n",
    "encode()\tReturns an encoded version of the string\n",
    "endswith()\tReturns true if the string ends with the specified value\n",
    "expandtabs()\tSets the tab size of the string\n",
    "find()\tSearches the string for a specified value and returns the position of where it was found\n",
    "format()\tFormats specified values in a string\n",
    "format_map()\tFormats specified values in a string\n",
    "index()\tSearches the string for a specified value and returns the position of where it was found\n",
    "isalnum()\tReturns True if all characters in the string are alphanumeric\n",
    "isalpha()\tReturns True if all characters in the string are in the alphabet\n",
    "isascii()\tReturns True if all characters in the string are ascii characters\n",
    "isdecimal()\tReturns True if all characters in the string are decimals\n",
    "isdigit()\tReturns True if all characters in the string are digits\n",
    "isidentifier()\tReturns True if the string is an identifier\n",
    "islower()\tReturns True if all characters in the string are lower case\n",
    "isnumeric()\tReturns True if all characters in the string are numeric\n",
    "isprintable()\tReturns True if all characters in the string are printable\n",
    "isspace()\tReturns True if all characters in the string are whitespaces\n",
    "istitle()\tReturns True if the string follows the rules of a title\n",
    "isupper()\tReturns True if all characters in the string are upper case\n",
    "join()\tJoins the elements of an iterable to the end of the string\n",
    "ljust()\tReturns a left justified version of the string\n",
    "lower()\tConverts a string into lower case\n",
    "lstrip()\tReturns a left trim version of the string\n",
    "maketrans()\tReturns a translation table to be used in translations\n",
    "partition()\tReturns a tuple where the string is parted into three parts\n",
    "replace()\tReturns a string where a specified value is replaced with a specified value\n",
    "rfind()\tSearches the string for a specified value and returns the last position of where it was found\n",
    "rindex()\tSearches the string for a specified value and returns the last position of where it was found\n",
    "rjust()\tReturns a right justified version of the string\n",
    "rpartition()\tReturns a tuple where the string is parted into three parts\n",
    "rsplit()\tSplits the string at the specified separator, and returns a list\n",
    "rstrip()\tReturns a right trim version of the string\n",
    "split()\tSplits the string at the specified separator, and returns a list\n",
    "splitlines()\tSplits the string at line breaks and returns a list\n",
    "startswith()\tReturns true if the string starts with the specified value\n",
    "strip()\tReturns a trimmed version of the string\n",
    "swapcase()\tSwaps cases, lower case becomes upper case and vice versa\n",
    "title()\tConverts the first character of each word to upper case\n",
    "translate()\tReturns a translated string\n",
    "upper()\tConverts a string into upper case\n",
    "zfill()\tFills the string with a specified number of 0 values at the beginning"
   ]
  },
  {
   "cell_type": "code",
   "execution_count": 7,
   "metadata": {
    "colab": {
     "base_uri": "https://localhost:8080/"
    },
    "executionInfo": {
     "elapsed": 3207,
     "status": "ok",
     "timestamp": 1726323681223,
     "user": {
      "displayName": "Hillary Jude",
      "userId": "17943637264411223929"
     },
     "user_tz": -330
    },
    "id": "7IxTtlOM52_h",
    "outputId": "e2aa08ea-1c37-4b1c-9f22-b9597c35e6d7"
   },
   "outputs": [
    {
     "name": "stdin",
     "output_type": "stream",
     "text": [
      "what is your value?  55\n"
     ]
    },
    {
     "name": "stdout",
     "output_type": "stream",
     "text": [
      "you are great\n"
     ]
    }
   ],
   "source": [
    "a = int(input(\"what is your value? \"))\n",
    "if a <= 98:\n",
    "  print(\"you are great\")\n",
    "else:\n",
    "  print(\"you are waste\")"
   ]
  },
  {
   "cell_type": "code",
   "execution_count": 8,
   "metadata": {
    "colab": {
     "base_uri": "https://localhost:8080/"
    },
    "executionInfo": {
     "elapsed": 480,
     "status": "ok",
     "timestamp": 1726323875135,
     "user": {
      "displayName": "Hillary Jude",
      "userId": "17943637264411223929"
     },
     "user_tz": -330
    },
    "id": "xtx5NfF86sBf",
    "outputId": "f5cdce01-49ba-4afa-edab-5779b12bb0ac"
   },
   "outputs": [
    {
     "name": "stdout",
     "output_type": "stream",
     "text": [
      "True True\n"
     ]
    }
   ],
   "source": [
    "a,b = 2,3\n",
    "c = a<b\n",
    "d = (a>1) and (c<3)\n",
    "print(c,d)"
   ]
  },
  {
   "cell_type": "code",
   "execution_count": 10,
   "metadata": {
    "colab": {
     "base_uri": "https://localhost:8080/"
    },
    "executionInfo": {
     "elapsed": 4532,
     "status": "ok",
     "timestamp": 1726324463840,
     "user": {
      "displayName": "Hillary Jude",
      "userId": "17943637264411223929"
     },
     "user_tz": -330
    },
    "id": "CZwEsMBC8IG7",
    "outputId": "cf012e20-eb1f-433f-a99b-8376fd4fd3f0"
   },
   "outputs": [
    {
     "name": "stdin",
     "output_type": "stream",
     "text": [
      "what is the signal color? red\n"
     ]
    },
    {
     "name": "stdout",
     "output_type": "stream",
     "text": [
      "wait for some time.\n"
     ]
    }
   ],
   "source": [
    "signal = input(\"what is the signal color?\")\n",
    "if signal == 'green':\n",
    "  print(\"you can go now\")\n",
    "else:\n",
    "  print(\"wait for some time.\")"
   ]
  },
  {
   "cell_type": "code",
   "execution_count": 11,
   "metadata": {
    "colab": {
     "base_uri": "https://localhost:8080/"
    },
    "executionInfo": {
     "elapsed": 3474,
     "status": "ok",
     "timestamp": 1726324529811,
     "user": {
      "displayName": "Hillary Jude",
      "userId": "17943637264411223929"
     },
     "user_tz": -330
    },
    "id": "qYVXtmP99OiO",
    "outputId": "05958737-ef88-494f-db8d-43acaf4ad636"
   },
   "outputs": [
    {
     "name": "stdin",
     "output_type": "stream",
     "text": [
      "what is the color of the signal? yellow\n"
     ]
    },
    {
     "name": "stdout",
     "output_type": "stream",
     "text": [
      "wait\n"
     ]
    }
   ],
   "source": [
    "signal = input(\"what is the color of the signal?\")\n",
    "value = \"go\" if signal == 'red' else 'wait'\n",
    "print(value)"
   ]
  },
  {
   "cell_type": "code",
   "execution_count": 82,
   "metadata": {
    "colab": {
     "base_uri": "https://localhost:8080/"
    },
    "executionInfo": {
     "elapsed": 7951,
     "status": "ok",
     "timestamp": 1726376255701,
     "user": {
      "displayName": "Hillary Jude",
      "userId": "17943637264411223929"
     },
     "user_tz": -330
    },
    "id": "qLS0hlH49w_r",
    "outputId": "d2844ed7-84c5-4af9-bc21-2db2d0f7437d"
   },
   "outputs": [
    {
     "name": "stdin",
     "output_type": "stream",
     "text": [
      "What is the name of the sweet?  laddu\n"
     ]
    },
    {
     "name": "stdout",
     "output_type": "stream",
     "text": [
      "Delicious\n"
     ]
    }
   ],
   "source": [
    "sweet = input(\"What is the name of the sweet? \")\n",
    "result = \"Delicious\" if sweet == 'gulab' or 'laddu' else \"boring\"\n",
    "print(result)"
   ]
  },
  {
   "cell_type": "code",
   "execution_count": 13,
   "metadata": {
    "colab": {
     "base_uri": "https://localhost:8080/"
    },
    "executionInfo": {
     "elapsed": 486,
     "status": "ok",
     "timestamp": 1726376367281,
     "user": {
      "displayName": "Hillary Jude",
      "userId": "17943637264411223929"
     },
     "user_tz": -330
    },
    "id": "uO7eoFc29w8S",
    "outputId": "54a80f94-0d9a-4409-8157-a86713b3a932"
   },
   "outputs": [
    {
     "name": "stdout",
     "output_type": "stream",
     "text": [
      "what is your damn name? is it jack or jim? 88\n"
     ]
    }
   ],
   "source": [
    "print(\"what is your damn name\", \"is it jack or jim\", \"88\", sep='? ')"
   ]
  },
  {
   "cell_type": "code",
   "execution_count": 14,
   "metadata": {
    "id": "weVS_gDs9w50"
   },
   "outputs": [
    {
     "data": {
      "text/plain": [
       "\u001b[1;31mSignature:\u001b[0m \u001b[0mprint\u001b[0m\u001b[1;33m(\u001b[0m\u001b[1;33m*\u001b[0m\u001b[0margs\u001b[0m\u001b[1;33m,\u001b[0m \u001b[0msep\u001b[0m\u001b[1;33m=\u001b[0m\u001b[1;34m' '\u001b[0m\u001b[1;33m,\u001b[0m \u001b[0mend\u001b[0m\u001b[1;33m=\u001b[0m\u001b[1;34m'\\n'\u001b[0m\u001b[1;33m,\u001b[0m \u001b[0mfile\u001b[0m\u001b[1;33m=\u001b[0m\u001b[1;32mNone\u001b[0m\u001b[1;33m,\u001b[0m \u001b[0mflush\u001b[0m\u001b[1;33m=\u001b[0m\u001b[1;32mFalse\u001b[0m\u001b[1;33m)\u001b[0m\u001b[1;33m\u001b[0m\u001b[1;33m\u001b[0m\u001b[0m\n",
       "\u001b[1;31mDocstring:\u001b[0m\n",
       "Prints the values to a stream, or to sys.stdout by default.\n",
       "\n",
       "sep\n",
       "  string inserted between values, default a space.\n",
       "end\n",
       "  string appended after the last value, default a newline.\n",
       "file\n",
       "  a file-like object (stream); defaults to the current sys.stdout.\n",
       "flush\n",
       "  whether to forcibly flush the stream.\n",
       "\u001b[1;31mType:\u001b[0m      builtin_function_or_method"
      ]
     },
     "metadata": {},
     "output_type": "display_data"
    }
   ],
   "source": [
    "print?"
   ]
  },
  {
   "cell_type": "code",
   "execution_count": 15,
   "metadata": {
    "colab": {
     "base_uri": "https://localhost:8080/"
    },
    "executionInfo": {
     "elapsed": 568,
     "status": "ok",
     "timestamp": 1726379794857,
     "user": {
      "displayName": "Hillary Jude",
      "userId": "17943637264411223929"
     },
     "user_tz": -330
    },
    "id": "jy1U9ZwpQHCm",
    "outputId": "e44a8839-daf6-4ab7-87c7-1d947c7a5144"
   },
   "outputs": [
    {
     "name": "stdout",
     "output_type": "stream",
     "text": [
      "1\n",
      "2\n",
      "3\n",
      "4\n",
      "5\n",
      "6\n",
      "7\n",
      "8\n",
      "9\n",
      "10\n",
      "11\n"
     ]
    }
   ],
   "source": [
    "for i in range (1,12):\n",
    "  print(i)"
   ]
  },
  {
   "cell_type": "code",
   "execution_count": 16,
   "metadata": {
    "colab": {
     "base_uri": "https://localhost:8080/"
    },
    "executionInfo": {
     "elapsed": 521,
     "status": "ok",
     "timestamp": 1726379829267,
     "user": {
      "displayName": "Hillary Jude",
      "userId": "17943637264411223929"
     },
     "user_tz": -330
    },
    "id": "zAH86cFSQG_K",
    "outputId": "176ab851-e5b5-4183-b369-07c6b58255cd"
   },
   "outputs": [
    {
     "name": "stdout",
     "output_type": "stream",
     "text": [
      "1\n",
      "3\n",
      "5\n",
      "7\n",
      "9\n",
      "11\n"
     ]
    }
   ],
   "source": [
    "for jack in range (1,12,2):\n",
    "  print(jack)"
   ]
  },
  {
   "cell_type": "markdown",
   "metadata": {
    "id": "Y7CPxYbNQgz9"
   },
   "source": [
    "If I want the output in a single line instead of separate lines, I need to use the end command at the print statement."
   ]
  },
  {
   "cell_type": "code",
   "execution_count": 17,
   "metadata": {
    "colab": {
     "base_uri": "https://localhost:8080/"
    },
    "executionInfo": {
     "elapsed": 399,
     "status": "ok",
     "timestamp": 1726379946462,
     "user": {
      "displayName": "Hillary Jude",
      "userId": "17943637264411223929"
     },
     "user_tz": -330
    },
    "id": "GOuN9-aGQcRq",
    "outputId": "e9f9e6f9-baa3-42de-9587-f26562acd40b"
   },
   "outputs": [
    {
     "name": "stdout",
     "output_type": "stream",
     "text": [
      "1, 3, 5, 7, 9, 11, "
     ]
    }
   ],
   "source": [
    "for jack in range (1,12,2):\n",
    "  print(jack, end=', ')\n"
   ]
  },
  {
   "cell_type": "code",
   "execution_count": 18,
   "metadata": {},
   "outputs": [
    {
     "name": "stdout",
     "output_type": "stream",
     "text": [
      "Inside DL: 3 3 "
     ]
    }
   ],
   "source": [
    "var = 1\n",
    "def DL():\n",
    "    global var\n",
    "    var =3\n",
    "    print(\"Inside DL:\",  var, end=\" \")\n",
    "\n",
    "DL()\n",
    "print(var, end=\" \")"
   ]
  },
  {
   "cell_type": "markdown",
   "metadata": {},
   "source": [
    "### POP()"
   ]
  },
  {
   "cell_type": "markdown",
   "metadata": {
    "jp-MarkdownHeadingCollapsed": true
   },
   "source": [
    "**.pop() returns element at index -1**"
   ]
  },
  {
   "cell_type": "code",
   "execution_count": 19,
   "metadata": {},
   "outputs": [
    {
     "name": "stdout",
     "output_type": "stream",
     "text": [
      "4 7 11 15 "
     ]
    }
   ],
   "source": [
    "arr = [[1, 2, 3, 4],\n",
    "       [4, 5, 6, 7],\n",
    "       [8, 9, 10, 11],\n",
    "       [12, 13, 14, 15]]\n",
    "\n",
    "for i in range(0, 4):\n",
    "    print(arr[i].pop(), end=\" \")"
   ]
  },
  {
   "cell_type": "markdown",
   "metadata": {},
   "source": [
    "## Global\n",
    "Global keyword along with the variable name allows you to access or modify global variable locally (inside the function) but the affect will be on the global scope."
   ]
  },
  {
   "cell_type": "markdown",
   "metadata": {
    "id": "UAOKlI2PSFKd"
   },
   "source": [
    "this code will not give any result as the number decreases in the order of -1 but its range itself starts from 1 and goes to 10, which is not possible."
   ]
  },
  {
   "cell_type": "code",
   "execution_count": 20,
   "metadata": {
    "id": "KmYikbSEQ5bJ"
   },
   "outputs": [],
   "source": [
    "for jack in range(1,10,-1):\n",
    "  print(jack)"
   ]
  },
  {
   "cell_type": "code",
   "execution_count": 21,
   "metadata": {
    "colab": {
     "base_uri": "https://localhost:8080/"
    },
    "executionInfo": {
     "elapsed": 536,
     "status": "ok",
     "timestamp": 1726380331733,
     "user": {
      "displayName": "Hillary Jude",
      "userId": "17943637264411223929"
     },
     "user_tz": -330
    },
    "id": "1RkM0K3oQ5Yl",
    "outputId": "0785585b-e807-4d67-b30f-8bcd183fa4fd"
   },
   "outputs": [
    {
     "name": "stdout",
     "output_type": "stream",
     "text": [
      "50\n",
      "45\n",
      "40\n",
      "35\n",
      "30\n",
      "25\n",
      "20\n",
      "15\n",
      "10\n"
     ]
    }
   ],
   "source": [
    "for jack in range(50,5,-5):\n",
    "  print(jack)"
   ]
  },
  {
   "cell_type": "code",
   "execution_count": 22,
   "metadata": {
    "colab": {
     "base_uri": "https://localhost:8080/"
    },
    "executionInfo": {
     "elapsed": 525,
     "status": "ok",
     "timestamp": 1726380415080,
     "user": {
      "displayName": "Hillary Jude",
      "userId": "17943637264411223929"
     },
     "user_tz": -330
    },
    "id": "YpT7vpj5Q5W1",
    "outputId": "4b913a10-ef19-4ca9-8bf0-691722b2b31e"
   },
   "outputs": [
    {
     "name": "stdout",
     "output_type": "stream",
     "text": [
      "9 | 12 | 15 | 18 | "
     ]
    }
   ],
   "source": [
    "for jude in range (9,20,3):\n",
    "  print(jude , end=' | ')"
   ]
  },
  {
   "cell_type": "code",
   "execution_count": 23,
   "metadata": {
    "colab": {
     "base_uri": "https://localhost:8080/",
     "height": 53
    },
    "executionInfo": {
     "elapsed": 5606,
     "status": "ok",
     "timestamp": 1726381119999,
     "user": {
      "displayName": "Hillary Jude",
      "userId": "17943637264411223929"
     },
     "user_tz": -330
    },
    "id": "mrVuyAtGVR67",
    "outputId": "ce68920a-85f0-4e17-c53c-a975ae4f3252"
   },
   "outputs": [
    {
     "name": "stdin",
     "output_type": "stream",
     "text": [
      " 878\n"
     ]
    },
    {
     "data": {
      "text/plain": [
       "'878'"
      ]
     },
     "execution_count": 23,
     "metadata": {},
     "output_type": "execute_result"
    }
   ],
   "source": [
    "input()"
   ]
  },
  {
   "cell_type": "markdown",
   "metadata": {
    "id": "j0xOYDieV9UR"
   },
   "source": [
    "the input takes the values in the form of string and hence it concatenates."
   ]
  },
  {
   "cell_type": "code",
   "execution_count": 24,
   "metadata": {
    "colab": {
     "base_uri": "https://localhost:8080/"
    },
    "executionInfo": {
     "elapsed": 6768,
     "status": "ok",
     "timestamp": 1726381278014,
     "user": {
      "displayName": "Hillary Jude",
      "userId": "17943637264411223929"
     },
     "user_tz": -330
    },
    "id": "3Jb6rJn9VRjq",
    "outputId": "872776eb-44e7-4012-8959-d5cbf541772a"
   },
   "outputs": [
    {
     "name": "stdin",
     "output_type": "stream",
     "text": [
      "enter the first number 7\n",
      "input the second number 25\n"
     ]
    },
    {
     "name": "stdout",
     "output_type": "stream",
     "text": [
      "725\n"
     ]
    }
   ],
   "source": [
    "n1 = input(\"enter the first number\")\n",
    "n2 = input(\"input the second number\")\n",
    "print(n1 + n2)"
   ]
  },
  {
   "attachments": {
    "a48bbb31-77b8-4dde-8254-b24bebfa4dc8.png": {
     "image/png": "[encoded data removed]"
    }
   },
   "cell_type": "markdown",
   "metadata": {
    "id": "fuBoeMKbWC32"
   },
   "source": [
    "# Type casting\n",
    "What if I actually want to input a number and make them add? Then I need to make the input data type to an integer or a float or whatever type it is. **This is called as explicit type casting**\n",
    "\n",
    "![image.png](attachment:a48bbb31-77b8-4dde-8254-b24bebfa4dc8.png)"
   ]
  },
  {
   "cell_type": "code",
   "execution_count": 25,
   "metadata": {
    "colab": {
     "base_uri": "https://localhost:8080/"
    },
    "executionInfo": {
     "elapsed": 5425,
     "status": "ok",
     "timestamp": 1726381405695,
     "user": {
      "displayName": "Hillary Jude",
      "userId": "17943637264411223929"
     },
     "user_tz": -330
    },
    "id": "bSFF7xFfWMsH",
    "outputId": "61bd327f-fa30-4f9b-a704-b407f1acf45b"
   },
   "outputs": [
    {
     "name": "stdin",
     "output_type": "stream",
     "text": [
      "enter n1  7\n",
      "enter n2  55\n"
     ]
    },
    {
     "name": "stdout",
     "output_type": "stream",
     "text": [
      "62\n"
     ]
    }
   ],
   "source": [
    "n1 = int(input(\"enter n1 \"))\n",
    "n2 = int(input(\"enter n2 \"))\n",
    "print(n1 + n2)"
   ]
  },
  {
   "cell_type": "markdown",
   "metadata": {
    "id": "NnTVHHLKZKBS"
   },
   "source": [
    "Its important that we initialize the value of variable before entering into the loop."
   ]
  },
  {
   "cell_type": "code",
   "execution_count": 26,
   "metadata": {
    "colab": {
     "base_uri": "https://localhost:8080/"
    },
    "executionInfo": {
     "elapsed": 9782,
     "status": "ok",
     "timestamp": 1726382099694,
     "user": {
      "displayName": "Hillary Jude",
      "userId": "17943637264411223929"
     },
     "user_tz": -330
    },
    "id": "lJUvsRaSVRe4",
    "outputId": "3eb636bc-8eee-4733-d42a-206f00160eb4"
   },
   "outputs": [
    {
     "name": "stdout",
     "output_type": "stream",
     "text": [
      "0\n"
     ]
    },
    {
     "name": "stdin",
     "output_type": "stream",
     "text": [
      "what is the value of w?  4\n"
     ]
    },
    {
     "name": "stdout",
     "output_type": "stream",
     "text": [
      "4\n"
     ]
    },
    {
     "name": "stdin",
     "output_type": "stream",
     "text": [
      "what is the value of w?  9\n"
     ]
    },
    {
     "name": "stdout",
     "output_type": "stream",
     "text": [
      "9\n"
     ]
    },
    {
     "name": "stdin",
     "output_type": "stream",
     "text": [
      "what is the value of w?  10\n"
     ]
    }
   ],
   "source": [
    "w = 0\n",
    "while w != 10:\n",
    "    print(w)\n",
    "    w = int(input(\"what is the value of w? \"))"
   ]
  },
  {
   "cell_type": "code",
   "execution_count": 27,
   "metadata": {
    "colab": {
     "base_uri": "https://localhost:8080/"
    },
    "executionInfo": {
     "elapsed": 505,
     "status": "ok",
     "timestamp": 1726382319859,
     "user": {
      "displayName": "Hillary Jude",
      "userId": "17943637264411223929"
     },
     "user_tz": -330
    },
    "id": "P2lTduY7ZhBd",
    "outputId": "15a80c48-e4a8-419c-b51f-92c1a65a9a8e"
   },
   "outputs": [
    {
     "name": "stdout",
     "output_type": "stream",
     "text": [
      "0\n",
      "1\n",
      "2\n",
      "3\n",
      "4\n",
      "5\n",
      "6\n",
      "7\n",
      "8\n",
      "9\n",
      "10\n",
      "11\n",
      "12\n",
      "13\n",
      "14\n"
     ]
    }
   ],
   "source": [
    "w = 0\n",
    "while w != 15:\n",
    "  print(w)\n",
    "  w += 1"
   ]
  },
  {
   "cell_type": "code",
   "execution_count": 28,
   "metadata": {
    "id": "ducsXB91Zg9-"
   },
   "outputs": [
    {
     "name": "stdout",
     "output_type": "stream",
     "text": [
      "9\n"
     ]
    }
   ],
   "source": [
    "i = 9\n",
    "while True:\n",
    "  if i%3 == 0:\n",
    "    print(i)\n",
    "    i += 1\n",
    "  break"
   ]
  },
  {
   "cell_type": "markdown",
   "metadata": {
    "id": "D2GvXcZyhg3m"
   },
   "source": [
    "If true, it will break, or it will come outside the loop and keep printing and adding the variable."
   ]
  },
  {
   "cell_type": "code",
   "execution_count": 29,
   "metadata": {
    "colab": {
     "base_uri": "https://localhost:8080/"
    },
    "executionInfo": {
     "elapsed": 527,
     "status": "ok",
     "timestamp": 1726384398568,
     "user": {
      "displayName": "Hillary Jude",
      "userId": "17943637264411223929"
     },
     "user_tz": -330
    },
    "id": "icOKqpY5Zg2C",
    "outputId": "1675b91e-659c-41dd-9c09-743b0368a169"
   },
   "outputs": [
    {
     "name": "stdout",
     "output_type": "stream",
     "text": [
      "1 2 "
     ]
    }
   ],
   "source": [
    "i = 1\n",
    "while True:\n",
    "  if i%3 == 0:\n",
    "    break \n",
    "  print(i, end=\" \")\n",
    "  i += 1\n"
   ]
  },
  {
   "cell_type": "code",
   "execution_count": 30,
   "metadata": {
    "colab": {
     "base_uri": "https://localhost:8080/"
    },
    "executionInfo": {
     "elapsed": 404,
     "status": "ok",
     "timestamp": 1726386851163,
     "user": {
      "displayName": "Hillary Jude",
      "userId": "17943637264411223929"
     },
     "user_tz": -330
    },
    "id": "FeEKhpXLqccl",
    "outputId": "0f4cac34-bec9-4f30-9ba8-d9d239a2c6c5"
   },
   "outputs": [
    {
     "name": "stdout",
     "output_type": "stream",
     "text": [
      "x\n",
      "y\n",
      "x\n"
     ]
    }
   ],
   "source": [
    "i = 7\n",
    "while i>0:\n",
    "  i -= 3\n",
    "  print('x')\n",
    "  if i<=2:\n",
    "    break\n",
    "  else:\n",
    "    print('y')"
   ]
  },
  {
   "cell_type": "markdown",
   "metadata": {
    "id": "BdDTVUMHr_Os"
   },
   "source": [
    "break: Stops the loop completely, even if the loop's condition is still true.\n",
    "continue: Skips the rest of the current loop iteration and goes to the next iteration."
   ]
  },
  {
   "cell_type": "code",
   "execution_count": 31,
   "metadata": {
    "colab": {
     "base_uri": "https://localhost:8080/"
    },
    "executionInfo": {
     "elapsed": 413,
     "status": "ok",
     "timestamp": 1726386945205,
     "user": {
      "displayName": "Hillary Jude",
      "userId": "17943637264411223929"
     },
     "user_tz": -330
    },
    "id": "FSIXSKFsqcZG",
    "outputId": "375c4f8f-e0f9-4c7a-c5a7-7ea1c702cbf7"
   },
   "outputs": [
    {
     "name": "stdout",
     "output_type": "stream",
     "text": [
      "x\n",
      "y\n",
      "x\n",
      "x\n"
     ]
    }
   ],
   "source": [
    "i = 7\n",
    "while i>0:\n",
    "  i -= 3\n",
    "  print('x')\n",
    "  if i<=2:\n",
    "    continue\n",
    "  else:\n",
    "    print('y')"
   ]
  },
  {
   "cell_type": "code",
   "execution_count": 32,
   "metadata": {
    "colab": {
     "base_uri": "https://localhost:8080/"
    },
    "executionInfo": {
     "elapsed": 390,
     "status": "ok",
     "timestamp": 1726387160658,
     "user": {
      "displayName": "Hillary Jude",
      "userId": "17943637264411223929"
     },
     "user_tz": -330
    },
    "id": "IxjzllhzqcO2",
    "outputId": "9b1b63bf-5e8f-487a-efe8-0be997f6e36a"
   },
   "outputs": [
    {
     "name": "stdout",
     "output_type": "stream",
     "text": [
      "1\n",
      "2\n",
      "3\n",
      "4\n",
      "5 is always special\n",
      "6\n",
      "7\n",
      "8\n",
      "9\n",
      "10\n"
     ]
    }
   ],
   "source": [
    "for number in range(1, 11):\n",
    "    if number == 5:\n",
    "        print(\"5 is always special\")  # Stop the loop when number is 5\n",
    "        continue\n",
    "    print(number)"
   ]
  },
  {
   "cell_type": "code",
   "execution_count": 33,
   "metadata": {
    "colab": {
     "base_uri": "https://localhost:8080/"
    },
    "executionInfo": {
     "elapsed": 408,
     "status": "ok",
     "timestamp": 1726387171343,
     "user": {
      "displayName": "Hillary Jude",
      "userId": "17943637264411223929"
     },
     "user_tz": -330
    },
    "id": "eOpdbKx-qcLM",
    "outputId": "dc16adaf-d675-434c-bc4e-e913f48eca1c"
   },
   "outputs": [
    {
     "name": "stdout",
     "output_type": "stream",
     "text": [
      "1\n",
      "3\n",
      "5\n",
      "7\n",
      "9\n"
     ]
    }
   ],
   "source": [
    "for number in range(1, 11):\n",
    "    if number % 2 == 0:  # If number is even\n",
    "        continue  # Skip the rest of the loop\n",
    "    print(number)"
   ]
  },
  {
   "cell_type": "markdown",
   "metadata": {
    "id": "CyTlAFDkuBRe"
   },
   "source": [
    "# FUNCTION"
   ]
  },
  {
   "cell_type": "code",
   "execution_count": 34,
   "metadata": {
    "id": "mWidaP2OuIih"
   },
   "outputs": [],
   "source": [
    "def isprime(num): #defining a new function with a variable\n",
    "  if num == 2: #if that variable happens to be 2, then it directly says the output is True\n",
    "    return True\n",
    "  for i in range (3, num): #now looping the another variable from 2 to the defined variable (not included)\n",
    "    if num % i == 0: #if the defined variable is completely divisible and leaves reminder 0, then it is not Prime. therefore it should saty False\n",
    "      return False   # Likewise, num should be divided by 2, 3, 4 till the previous number but not the number itself. As prime can be % by 1 and itself\n",
    "  return True"
   ]
  },
  {
   "cell_type": "code",
   "execution_count": 35,
   "metadata": {
    "colab": {
     "base_uri": "https://localhost:8080/"
    },
    "executionInfo": {
     "elapsed": 510,
     "status": "ok",
     "timestamp": 1726394936307,
     "user": {
      "displayName": "Hillary Jude",
      "userId": "17943637264411223929"
     },
     "user_tz": -330
    },
    "id": "hRog9r30uJW6",
    "outputId": "a214cb7f-bdf9-4368-a74d-be36a966ead4"
   },
   "outputs": [
    {
     "data": {
      "text/plain": [
       "True"
      ]
     },
     "execution_count": 35,
     "metadata": {},
     "output_type": "execute_result"
    }
   ],
   "source": [
    "isprime(5)"
   ]
  },
  {
   "cell_type": "code",
   "execution_count": 36,
   "metadata": {
    "colab": {
     "base_uri": "https://localhost:8080/"
    },
    "executionInfo": {
     "elapsed": 426,
     "status": "ok",
     "timestamp": 1726394945151,
     "user": {
      "displayName": "Hillary Jude",
      "userId": "17943637264411223929"
     },
     "user_tz": -330
    },
    "id": "LaOJSy5IuJTn",
    "outputId": "c21009e4-b762-4a15-a857-e24ba335968f"
   },
   "outputs": [
    {
     "data": {
      "text/plain": [
       "False"
      ]
     },
     "execution_count": 36,
     "metadata": {},
     "output_type": "execute_result"
    }
   ],
   "source": [
    "isprime(21)"
   ]
  },
  {
   "cell_type": "code",
   "execution_count": 37,
   "metadata": {
    "colab": {
     "base_uri": "https://localhost:8080/"
    },
    "executionInfo": {
     "elapsed": 426,
     "status": "ok",
     "timestamp": 1726396640647,
     "user": {
      "displayName": "Hillary Jude",
      "userId": "17943637264411223929"
     },
     "user_tz": -330
    },
    "id": "Jep617rMuJRG",
    "outputId": "b15573c0-5b2d-4a6c-fd38-19716343fa90"
   },
   "outputs": [
    {
     "data": {
      "text/plain": [
       "True"
      ]
     },
     "execution_count": 37,
     "metadata": {},
     "output_type": "execute_result"
    }
   ],
   "source": [
    "isprime(97)"
   ]
  },
  {
   "cell_type": "markdown",
   "metadata": {
    "id": "5fdXYwadII9o"
   },
   "source": [
    "Remember that all these control flow statement and its conditions should be inside the define statement."
   ]
  },
  {
   "cell_type": "code",
   "execution_count": 38,
   "metadata": {
    "id": "sZiGWpFDuJO-"
   },
   "outputs": [],
   "source": [
    "def result(height,weight):\n",
    "  a = height / (weight**2)\n",
    "  print(round(a,2))\n",
    "\n",
    "  if a < 18:\n",
    "    print(\"underweight\")\n",
    "  elif a > 18 and a < 25:\n",
    "    print(\"normal\")\n",
    "  else:\n",
    "    print(\"Overweight\")\n",
    "\n"
   ]
  },
  {
   "cell_type": "code",
   "execution_count": 39,
   "metadata": {
    "colab": {
     "base_uri": "https://localhost:8080/"
    },
    "executionInfo": {
     "elapsed": 826,
     "status": "ok",
     "timestamp": 1726427968236,
     "user": {
      "displayName": "Hillary Jude",
      "userId": "17943637264411223929"
     },
     "user_tz": -330
    },
    "id": "qzjHmM9pD_ic",
    "outputId": "cd272143-c521-4340-9c0c-15f78fff09d6"
   },
   "outputs": [
    {
     "name": "stdout",
     "output_type": "stream",
     "text": [
      "0.14\n",
      "underweight\n"
     ]
    }
   ],
   "source": [
    "result(5,6)"
   ]
  },
  {
   "cell_type": "code",
   "execution_count": 40,
   "metadata": {
    "colab": {
     "base_uri": "https://localhost:8080/"
    },
    "executionInfo": {
     "elapsed": 388,
     "status": "ok",
     "timestamp": 1726427936356,
     "user": {
      "displayName": "Hillary Jude",
      "userId": "17943637264411223929"
     },
     "user_tz": -330
    },
    "id": "Z61q2aFMD_gC",
    "outputId": "072ab56a-0eab-4f87-94ba-f73a1af7908e"
   },
   "outputs": [
    {
     "name": "stdout",
     "output_type": "stream",
     "text": [
      "23.67\n"
     ]
    }
   ],
   "source": [
    "a = 23.66544461\n",
    "print(round(a,2))"
   ]
  },
  {
   "cell_type": "code",
   "execution_count": 42,
   "metadata": {
    "colab": {
     "base_uri": "https://localhost:8080/",
     "height": 0
    },
    "executionInfo": {
     "elapsed": 12,
     "status": "ok",
     "timestamp": 1726470301985,
     "user": {
      "displayName": "Hillary Jude",
      "userId": "17943637264411223929"
     },
     "user_tz": -330
    },
    "id": "0r8yPxDMD_WP",
    "outputId": "c207d707-ffe8-4ec7-8e50-61f9afe4d0e2"
   },
   "outputs": [
    {
     "name": "stdout",
     "output_type": "stream",
     "text": [
      "15\n",
      "10\n",
      "5\n"
     ]
    }
   ],
   "source": [
    "def operate(a):\n",
    "    a = a + b\n",
    "    return a\n",
    "\n",
    "a , b = 10 , 5\n",
    "print(operate(a))  #this gives the value of a in that function\n",
    "print(a)\n",
    "print(b)"
   ]
  },
  {
   "cell_type": "markdown",
   "metadata": {
    "id": "_1xeL8Ciuhtg"
   },
   "source": [
    "### LOCAL SCOPE AND GLOBAL SCOPE"
   ]
  },
  {
   "cell_type": "markdown",
   "metadata": {
    "id": "4I27hhCOpvCG"
   },
   "source": [
    "![image.png](data:image/png;base64,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)\n"
   ]
  },
  {
   "cell_type": "code",
   "execution_count": 43,
   "metadata": {
    "colab": {
     "base_uri": "https://localhost:8080/",
     "height": 0
    },
    "executionInfo": {
     "elapsed": 436,
     "status": "ok",
     "timestamp": 1726471688638,
     "user": {
      "displayName": "Hillary Jude",
      "userId": "17943637264411223929"
     },
     "user_tz": -330
    },
    "id": "chBO4vkatfrX",
    "outputId": "2b8f47cc-fcce-402d-e020-ba22afd86d68"
   },
   "outputs": [
    {
     "name": "stdout",
     "output_type": "stream",
     "text": [
      "4\n"
     ]
    }
   ],
   "source": [
    "global_scope = 2\n",
    "def gee(a):\n",
    "  a = global_scope + 2\n",
    "  return a\n",
    "\n",
    "print(gee(a))"
   ]
  },
  {
   "cell_type": "code",
   "execution_count": 44,
   "metadata": {
    "colab": {
     "base_uri": "https://localhost:8080/",
     "height": 0
    },
    "executionInfo": {
     "elapsed": 520,
     "status": "ok",
     "timestamp": 1726471757732,
     "user": {
      "displayName": "Hillary Jude",
      "userId": "17943637264411223929"
     },
     "user_tz": -330
    },
    "id": "cJo4AhIptfn_",
    "outputId": "6628a042-7708-4e79-cb47-a3a52caa3563"
   },
   "outputs": [
    {
     "name": "stdout",
     "output_type": "stream",
     "text": [
      "7\n"
     ]
    }
   ],
   "source": [
    "global_scope = 5\n",
    "def gee(a):\n",
    "  a = global_scope + 2\n",
    "  return a\n",
    "\n",
    "print(gee(a))"
   ]
  },
  {
   "cell_type": "code",
   "execution_count": 45,
   "metadata": {
    "colab": {
     "base_uri": "https://localhost:8080/",
     "height": 0
    },
    "executionInfo": {
     "elapsed": 522,
     "status": "ok",
     "timestamp": 1726471887166,
     "user": {
      "displayName": "Hillary Jude",
      "userId": "17943637264411223929"
     },
     "user_tz": -330
    },
    "id": "hVONu9AJtflI",
    "outputId": "d70d26e8-440d-4483-d49d-69c9a5e97d5a"
   },
   "outputs": [
    {
     "name": "stdout",
     "output_type": "stream",
     "text": [
      "9\n"
     ]
    }
   ],
   "source": [
    "def dog(m):\n",
    "  local_var = 3\n",
    "  m = m + local_var\n",
    "  return m\n",
    "\n",
    "print(dog(6))\n"
   ]
  },
  {
   "cell_type": "markdown",
   "metadata": {
    "id": "PicrusIWwNv8"
   },
   "source": [
    "A function can return do things from a function like add and sub"
   ]
  },
  {
   "cell_type": "code",
   "execution_count": 46,
   "metadata": {
    "colab": {
     "base_uri": "https://localhost:8080/",
     "height": 0
    },
    "executionInfo": {
     "elapsed": 962,
     "status": "ok",
     "timestamp": 1726472170800,
     "user": {
      "displayName": "Hillary Jude",
      "userId": "17943637264411223929"
     },
     "user_tz": -330
    },
    "id": "ki5YOPkvwNO9",
    "outputId": "420f9f9e-23a1-4c66-d79a-8fa782dcc45f"
   },
   "outputs": [
    {
     "name": "stdout",
     "output_type": "stream",
     "text": [
      "17\n",
      "-1\n"
     ]
    }
   ],
   "source": [
    "def thing(no1, no2):\n",
    "  return (no1 + no2, no1 - no2)\n",
    "\n",
    "add, sub = thing(8,9)\n",
    "print(add)\n",
    "print(sub)"
   ]
  },
  {
   "cell_type": "markdown",
   "metadata": {
    "id": "qLdvjf6z0-H9"
   },
   "source": [
    "# List and arrays:"
   ]
  },
  {
   "cell_type": "markdown",
   "metadata": {
    "id": "AaP1kM9D1GEx"
   },
   "source": [
    "List is heterogeneous meaning they will contain different data type.\n",
    "Array is homogeneous, which means they can contain same data type only."
   ]
  },
  {
   "cell_type": "code",
   "execution_count": 47,
   "metadata": {
    "colab": {
     "base_uri": "https://localhost:8080/",
     "height": 0
    },
    "executionInfo": {
     "elapsed": 407,
     "status": "ok",
     "timestamp": 1726473799768,
     "user": {
      "displayName": "Hillary Jude",
      "userId": "17943637264411223929"
     },
     "user_tz": -330
    },
    "id": "g_QuKE3Ltfiz",
    "outputId": "2cdf7e16-ab94-40cc-94bc-1a97693d65fc"
   },
   "outputs": [
    {
     "data": {
      "text/plain": [
       "list"
      ]
     },
     "execution_count": 47,
     "metadata": {},
     "output_type": "execute_result"
    }
   ],
   "source": [
    "k = [45, 65, \"jack\", 3*4]\n",
    "type(k)"
   ]
  },
  {
   "cell_type": "markdown",
   "metadata": {
    "id": "2jzbGrck26D2"
   },
   "source": [
    "# Indexing"
   ]
  },
  {
   "cell_type": "code",
   "execution_count": 48,
   "metadata": {
    "colab": {
     "base_uri": "https://localhost:8080/",
     "height": 0
    },
    "executionInfo": {
     "elapsed": 434,
     "status": "ok",
     "timestamp": 1726473844891,
     "user": {
      "displayName": "Hillary Jude",
      "userId": "17943637264411223929"
     },
     "user_tz": -330
    },
    "id": "9UIoUME13AMP",
    "outputId": "92e649aa-0694-4b0b-eb05-9774f7af0b36"
   },
   "outputs": [
    {
     "data": {
      "text/plain": [
       "12"
      ]
     },
     "execution_count": 48,
     "metadata": {},
     "output_type": "execute_result"
    }
   ],
   "source": [
    "k[3]"
   ]
  },
  {
   "cell_type": "code",
   "execution_count": 49,
   "metadata": {
    "colab": {
     "base_uri": "https://localhost:8080/",
     "height": 35
    },
    "executionInfo": {
     "elapsed": 393,
     "status": "ok",
     "timestamp": 1726473855276,
     "user": {
      "displayName": "Hillary Jude",
      "userId": "17943637264411223929"
     },
     "user_tz": -330
    },
    "id": "8dV8Txq63AI2",
    "outputId": "4e0ca7e5-3df3-45d7-e34b-5f62d4ad8f25"
   },
   "outputs": [
    {
     "data": {
      "text/plain": [
       "'jack'"
      ]
     },
     "execution_count": 49,
     "metadata": {},
     "output_type": "execute_result"
    }
   ],
   "source": [
    "k[-2] #reverse or negative indexing"
   ]
  },
  {
   "cell_type": "code",
   "execution_count": 50,
   "metadata": {
    "colab": {
     "base_uri": "https://localhost:8080/",
     "height": 0
    },
    "executionInfo": {
     "elapsed": 398,
     "status": "ok",
     "timestamp": 1726474022413,
     "user": {
      "displayName": "Hillary Jude",
      "userId": "17943637264411223929"
     },
     "user_tz": -330
    },
    "id": "Z17XQ9BH3AGF",
    "outputId": "c5ca4c50-6c24-40b2-9884-8552e5d658e2"
   },
   "outputs": [
    {
     "name": "stdout",
     "output_type": "stream",
     "text": [
      "[45, 32, 'jack', 12]\n"
     ]
    }
   ],
   "source": [
    "#what if I want to change the value of the second element in this list\n",
    "k[1] = 32\n",
    "print(k)"
   ]
  },
  {
   "cell_type": "code",
   "execution_count": 51,
   "metadata": {
    "colab": {
     "base_uri": "https://localhost:8080/",
     "height": 0
    },
    "executionInfo": {
     "elapsed": 438,
     "status": "ok",
     "timestamp": 1726474038176,
     "user": {
      "displayName": "Hillary Jude",
      "userId": "17943637264411223929"
     },
     "user_tz": -330
    },
    "id": "LY0oEDQQ3ADs",
    "outputId": "166b58d9-3ee0-49c5-816e-c7850a9921a1"
   },
   "outputs": [
    {
     "name": "stdout",
     "output_type": "stream",
     "text": [
      "4\n"
     ]
    }
   ],
   "source": [
    "print(len(k))"
   ]
  },
  {
   "cell_type": "code",
   "execution_count": 52,
   "metadata": {
    "colab": {
     "base_uri": "https://localhost:8080/",
     "height": 0
    },
    "executionInfo": {
     "elapsed": 402,
     "status": "ok",
     "timestamp": 1726474135060,
     "user": {
      "displayName": "Hillary Jude",
      "userId": "17943637264411223929"
     },
     "user_tz": -330
    },
    "id": "Cdq94o-L3ABL",
    "outputId": "abca453c-8fec-4f6f-98f1-aef324e348c0"
   },
   "outputs": [
    {
     "data": {
      "text/plain": [
       "12"
      ]
     },
     "execution_count": 52,
     "metadata": {},
     "output_type": "execute_result"
    }
   ],
   "source": [
    "#there is another way to find the last value of the list\n",
    "#one is by simply saying k[-1], another is little lengthy\n",
    "k[len(k)-1]\n"
   ]
  },
  {
   "cell_type": "markdown",
   "metadata": {
    "id": "ssL5DIut6eSG"
   },
   "source": [
    "# SLICING\n",
    "Cutting the values inside the list |\n",
    "structure: list[starting idx:ending idx+1]"
   ]
  },
  {
   "cell_type": "code",
   "execution_count": 53,
   "metadata": {
    "executionInfo": {
     "elapsed": 2,
     "status": "ok",
     "timestamp": 1726474849668,
     "user": {
      "displayName": "Hillary Jude",
      "userId": "17943637264411223929"
     },
     "user_tz": -330
    },
    "id": "Qaq6ftIr32-H"
   },
   "outputs": [],
   "source": [
    "marks = [2,35,66,98,1]"
   ]
  },
  {
   "cell_type": "code",
   "execution_count": 54,
   "metadata": {
    "colab": {
     "base_uri": "https://localhost:8080/",
     "height": 0
    },
    "executionInfo": {
     "elapsed": 415,
     "status": "ok",
     "timestamp": 1726474859606,
     "user": {
      "displayName": "Hillary Jude",
      "userId": "17943637264411223929"
     },
     "user_tz": -330
    },
    "id": "k-bMrBa5633I",
    "outputId": "7f121a0f-26f5-4dc1-ff02-e3518db4d410"
   },
   "outputs": [
    {
     "data": {
      "text/plain": [
       "[2, 35, 66, 98, 1]"
      ]
     },
     "execution_count": 54,
     "metadata": {},
     "output_type": "execute_result"
    }
   ],
   "source": [
    "marks[ : ] #gives me the full list"
   ]
  },
  {
   "cell_type": "code",
   "execution_count": 55,
   "metadata": {
    "executionInfo": {
     "elapsed": 525,
     "status": "ok",
     "timestamp": 1726480873555,
     "user": {
      "displayName": "Hillary Jude",
      "userId": "17943637264411223929"
     },
     "user_tz": -330
    },
    "id": "p9Za54u363ue"
   },
   "outputs": [],
   "source": [
    "marks = [23,43,99,2,10]\n"
   ]
  },
  {
   "cell_type": "code",
   "execution_count": 56,
   "metadata": {
    "colab": {
     "base_uri": "https://localhost:8080/"
    },
    "executionInfo": {
     "elapsed": 588,
     "status": "ok",
     "timestamp": 1726480894876,
     "user": {
      "displayName": "Hillary Jude",
      "userId": "17943637264411223929"
     },
     "user_tz": -330
    },
    "id": "Qz3HCQNUR4oj",
    "outputId": "5f1327b7-20f6-4562-c31b-f2814ffe2a77"
   },
   "outputs": [
    {
     "data": {
      "text/plain": [
       "[23, 43, 99, 2, 10]"
      ]
     },
     "execution_count": 56,
     "metadata": {},
     "output_type": "execute_result"
    }
   ],
   "source": [
    "marks[:]"
   ]
  },
  {
   "cell_type": "code",
   "execution_count": 57,
   "metadata": {
    "colab": {
     "base_uri": "https://localhost:8080/"
    },
    "executionInfo": {
     "elapsed": 521,
     "status": "ok",
     "timestamp": 1726480938016,
     "user": {
      "displayName": "Hillary Jude",
      "userId": "17943637264411223929"
     },
     "user_tz": -330
    },
    "id": "wHWWj8S1SAfZ",
    "outputId": "76343176-e155-45cd-ad5c-b0912902e42c"
   },
   "outputs": [
    {
     "data": {
      "text/plain": [
       "[10]"
      ]
     },
     "execution_count": 57,
     "metadata": {},
     "output_type": "execute_result"
    }
   ],
   "source": [
    "marks[-1:]"
   ]
  },
  {
   "cell_type": "code",
   "execution_count": 58,
   "metadata": {
    "colab": {
     "base_uri": "https://localhost:8080/"
    },
    "executionInfo": {
     "elapsed": 519,
     "status": "ok",
     "timestamp": 1726480967477,
     "user": {
      "displayName": "Hillary Jude",
      "userId": "17943637264411223929"
     },
     "user_tz": -330
    },
    "id": "SXJYHM0bSL2n",
    "outputId": "297534e8-4c63-4ca7-eec5-3f113978c727"
   },
   "outputs": [
    {
     "data": {
      "text/plain": [
       "[23, 43, 99, 2]"
      ]
     },
     "execution_count": 58,
     "metadata": {},
     "output_type": "execute_result"
    }
   ],
   "source": [
    "marks[:-1]"
   ]
  },
  {
   "cell_type": "code",
   "execution_count": 59,
   "metadata": {
    "colab": {
     "base_uri": "https://localhost:8080/"
    },
    "executionInfo": {
     "elapsed": 542,
     "status": "ok",
     "timestamp": 1726481507402,
     "user": {
      "displayName": "Hillary Jude",
      "userId": "17943637264411223929"
     },
     "user_tz": -330
    },
    "id": "8muTFik_UO7u",
    "outputId": "75f393f1-86ac-4f59-8adb-18d9b57cf9bb"
   },
   "outputs": [
    {
     "data": {
      "text/plain": [
       "[23, 43, 99]"
      ]
     },
     "execution_count": 59,
     "metadata": {},
     "output_type": "execute_result"
    }
   ],
   "source": [
    "marks[:-2]"
   ]
  },
  {
   "cell_type": "code",
   "execution_count": 60,
   "metadata": {
    "colab": {
     "base_uri": "https://localhost:8080/"
    },
    "executionInfo": {
     "elapsed": 723,
     "status": "ok",
     "timestamp": 1726481520320,
     "user": {
      "displayName": "Hillary Jude",
      "userId": "17943637264411223929"
     },
     "user_tz": -330
    },
    "id": "uPGBFV9KUR9f",
    "outputId": "de5a1188-0a2f-4674-8e14-9d8b30f176ea"
   },
   "outputs": [
    {
     "data": {
      "text/plain": [
       "[23, 43, 99]"
      ]
     },
     "execution_count": 60,
     "metadata": {},
     "output_type": "execute_result"
    }
   ],
   "source": [
    "marks[0:3]"
   ]
  },
  {
   "cell_type": "markdown",
   "metadata": {
    "id": "ee2F5ifuVA2Q"
   },
   "source": [
    "Slicing with step"
   ]
  },
  {
   "cell_type": "code",
   "execution_count": 61,
   "metadata": {
    "colab": {
     "base_uri": "https://localhost:8080/"
    },
    "executionInfo": {
     "elapsed": 718,
     "status": "ok",
     "timestamp": 1726481719585,
     "user": {
      "displayName": "Hillary Jude",
      "userId": "17943637264411223929"
     },
     "user_tz": -330
    },
    "id": "JP37mKBbUVCp",
    "outputId": "2e61eb4d-9530-4d48-9b22-0417cebb5d00"
   },
   "outputs": [
    {
     "data": {
      "text/plain": [
       "[23, 99]"
      ]
     },
     "execution_count": 61,
     "metadata": {},
     "output_type": "execute_result"
    }
   ],
   "source": [
    "marks[0:3:2] #jumps after 2 steps"
   ]
  },
  {
   "cell_type": "code",
   "execution_count": 62,
   "metadata": {
    "executionInfo": {
     "elapsed": 567,
     "status": "ok",
     "timestamp": 1726481963841,
     "user": {
      "displayName": "Hillary Jude",
      "userId": "17943637264411223929"
     },
     "user_tz": -330
    },
    "id": "qnTrvwtnVFsT"
   },
   "outputs": [],
   "source": [
    "marks = [6554,56,989,\"sdfs\",88,\"Hi\"]"
   ]
  },
  {
   "cell_type": "code",
   "execution_count": 63,
   "metadata": {
    "colab": {
     "base_uri": "https://localhost:8080/"
    },
    "executionInfo": {
     "elapsed": 625,
     "status": "ok",
     "timestamp": 1726481986640,
     "user": {
      "displayName": "Hillary Jude",
      "userId": "17943637264411223929"
     },
     "user_tz": -330
    },
    "id": "HFTOw9mrWBYR",
    "outputId": "2c0e198f-84ed-4e8a-db3d-6c62feb53aca"
   },
   "outputs": [
    {
     "data": {
      "text/plain": [
       "['Hi', 88, 'sdfs', 989, 56]"
      ]
     },
     "execution_count": 63,
     "metadata": {},
     "output_type": "execute_result"
    }
   ],
   "source": [
    "marks[-1:-6:-1]"
   ]
  },
  {
   "cell_type": "code",
   "execution_count": 64,
   "metadata": {
    "colab": {
     "base_uri": "https://localhost:8080/"
    },
    "executionInfo": {
     "elapsed": 631,
     "status": "ok",
     "timestamp": 1726482006306,
     "user": {
      "displayName": "Hillary Jude",
      "userId": "17943637264411223929"
     },
     "user_tz": -330
    },
    "id": "HfNDRuXyWG6_",
    "outputId": "4ec34a68-8d9e-466a-9c8a-b89c1d8b9921"
   },
   "outputs": [
    {
     "data": {
      "text/plain": [
       "['Hi']"
      ]
     },
     "execution_count": 64,
     "metadata": {},
     "output_type": "execute_result"
    }
   ],
   "source": [
    "marks[-1:]"
   ]
  },
  {
   "cell_type": "code",
   "execution_count": 65,
   "metadata": {
    "colab": {
     "base_uri": "https://localhost:8080/"
    },
    "executionInfo": {
     "elapsed": 627,
     "status": "ok",
     "timestamp": 1726482033436,
     "user": {
      "displayName": "Hillary Jude",
      "userId": "17943637264411223929"
     },
     "user_tz": -330
    },
    "id": "QNfiGYW-WLuO",
    "outputId": "766eed84-2d45-450b-9b0d-286bae83e77b"
   },
   "outputs": [
    {
     "data": {
      "text/plain": [
       "[6554, 56, 989, 'sdfs', 88, 'Hi']"
      ]
     },
     "execution_count": 65,
     "metadata": {},
     "output_type": "execute_result"
    }
   ],
   "source": [
    "marks[0:6]"
   ]
  },
  {
   "cell_type": "code",
   "execution_count": 66,
   "metadata": {
    "colab": {
     "base_uri": "https://localhost:8080/"
    },
    "executionInfo": {
     "elapsed": 646,
     "status": "ok",
     "timestamp": 1726482047586,
     "user": {
      "displayName": "Hillary Jude",
      "userId": "17943637264411223929"
     },
     "user_tz": -330
    },
    "id": "gBN8lYdxWSVp",
    "outputId": "e8802352-0012-4c0a-976e-ec6e7120df55"
   },
   "outputs": [
    {
     "data": {
      "text/plain": [
       "[56, 'sdfs']"
      ]
     },
     "execution_count": 66,
     "metadata": {},
     "output_type": "execute_result"
    }
   ],
   "source": [
    "marks[1:5:2]"
   ]
  },
  {
   "cell_type": "code",
   "execution_count": 67,
   "metadata": {
    "colab": {
     "base_uri": "https://localhost:8080/"
    },
    "executionInfo": {
     "elapsed": 572,
     "status": "ok",
     "timestamp": 1726482093487,
     "user": {
      "displayName": "Hillary Jude",
      "userId": "17943637264411223929"
     },
     "user_tz": -330
    },
    "id": "FIqPUrh6WVwP",
    "outputId": "6734034a-d8d5-4134-a0e8-593a41b194d4"
   },
   "outputs": [
    {
     "data": {
      "text/plain": [
       "['Hi', 88, 'sdfs', 989, 56]"
      ]
     },
     "execution_count": 67,
     "metadata": {},
     "output_type": "execute_result"
    }
   ],
   "source": [
    "marks[-1:-6:-1] #now the direction is from right to left"
   ]
  },
  {
   "cell_type": "code",
   "execution_count": 68,
   "metadata": {
    "colab": {
     "base_uri": "https://localhost:8080/"
    },
    "executionInfo": {
     "elapsed": 680,
     "status": "ok",
     "timestamp": 1726482133495,
     "user": {
      "displayName": "Hillary Jude",
      "userId": "17943637264411223929"
     },
     "user_tz": -330
    },
    "id": "fhEyMgOwWhBX",
    "outputId": "d43a2c07-084e-4924-d185-d1050163fc05"
   },
   "outputs": [
    {
     "data": {
      "text/plain": [
       "['Hi', 'sdfs', 56]"
      ]
     },
     "execution_count": 68,
     "metadata": {},
     "output_type": "execute_result"
    }
   ],
   "source": [
    "marks[-1::-2] #from right end to left end with a jump of two digits."
   ]
  },
  {
   "cell_type": "code",
   "execution_count": 69,
   "metadata": {
    "colab": {
     "base_uri": "https://localhost:8080/"
    },
    "executionInfo": {
     "elapsed": 511,
     "status": "ok",
     "timestamp": 1726482247327,
     "user": {
      "displayName": "Hillary Jude",
      "userId": "17943637264411223929"
     },
     "user_tz": -330
    },
    "id": "s-IaDWzOWqyK",
    "outputId": "4d95ea9f-1f99-40d6-b1d4-397115f18642"
   },
   "outputs": [
    {
     "data": {
      "text/plain": [
       "['Hi', 'sdfs', 56]"
      ]
     },
     "execution_count": 69,
     "metadata": {},
     "output_type": "execute_result"
    }
   ],
   "source": [
    "marks[::-2]"
   ]
  },
  {
   "cell_type": "code",
   "execution_count": 70,
   "metadata": {
    "colab": {
     "base_uri": "https://localhost:8080/"
    },
    "executionInfo": {
     "elapsed": 879,
     "status": "ok",
     "timestamp": 1726482276313,
     "user": {
      "displayName": "Hillary Jude",
      "userId": "17943637264411223929"
     },
     "user_tz": -330
    },
    "id": "n7L90y7PXGls",
    "outputId": "d1f5b205-160f-49d4-9148-e105c178b852"
   },
   "outputs": [
    {
     "data": {
      "text/plain": [
       "['Hi', 88, 'sdfs', 989, 56, 6554]"
      ]
     },
     "execution_count": 70,
     "metadata": {},
     "output_type": "execute_result"
    }
   ],
   "source": [
    "#quick hack to reverse the list\n",
    "marks[::-1]"
   ]
  },
  {
   "cell_type": "code",
   "execution_count": 71,
   "metadata": {
    "colab": {
     "base_uri": "https://localhost:8080/"
    },
    "executionInfo": {
     "elapsed": 733,
     "status": "ok",
     "timestamp": 1726482343088,
     "user": {
      "displayName": "Hillary Jude",
      "userId": "17943637264411223929"
     },
     "user_tz": -330
    },
    "id": "adeGzo2XXLAU",
    "outputId": "9b4e904b-018a-4ff1-a70e-3138f88caa64"
   },
   "outputs": [
    {
     "data": {
      "text/plain": [
       "255"
      ]
     },
     "execution_count": 71,
     "metadata": {},
     "output_type": "execute_result"
    }
   ],
   "source": [
    "mark = [78,56,55,66]\n",
    "sum(mark)"
   ]
  },
  {
   "cell_type": "code",
   "execution_count": 72,
   "metadata": {
    "colab": {
     "base_uri": "https://localhost:8080/"
    },
    "executionInfo": {
     "elapsed": 5,
     "status": "ok",
     "timestamp": 1726482354755,
     "user": {
      "displayName": "Hillary Jude",
      "userId": "17943637264411223929"
     },
     "user_tz": -330
    },
    "id": "Z5l4OxNqXfSo",
    "outputId": "e2349ceb-28ec-4cad-c9cb-15dc063399ad"
   },
   "outputs": [
    {
     "data": {
      "text/plain": [
       "4"
      ]
     },
     "execution_count": 72,
     "metadata": {},
     "output_type": "execute_result"
    }
   ],
   "source": [
    "len(mark)"
   ]
  },
  {
   "cell_type": "code",
   "execution_count": 73,
   "metadata": {
    "colab": {
     "base_uri": "https://localhost:8080/"
    },
    "executionInfo": {
     "elapsed": 522,
     "status": "ok",
     "timestamp": 1726482392641,
     "user": {
      "displayName": "Hillary Jude",
      "userId": "17943637264411223929"
     },
     "user_tz": -330
    },
    "id": "EQfT1afJXfPP",
    "outputId": "f0e06d0b-5a88-4f63-de72-a030b04a844b"
   },
   "outputs": [
    {
     "name": "stdout",
     "output_type": "stream",
     "text": [
      "[78, 56, 55, 66, 99]\n"
     ]
    }
   ],
   "source": [
    "mark.append(99)\n",
    "print(mark)"
   ]
  },
  {
   "cell_type": "code",
   "execution_count": 74,
   "metadata": {
    "colab": {
     "base_uri": "https://localhost:8080/"
    },
    "executionInfo": {
     "elapsed": 10,
     "status": "ok",
     "timestamp": 1726482473136,
     "user": {
      "displayName": "Hillary Jude",
      "userId": "17943637264411223929"
     },
     "user_tz": -330
    },
    "id": "uZZzGtDCXfMu",
    "outputId": "d7c1ab25-68e4-4cb2-8475-d6118359ce23"
   },
   "outputs": [
    {
     "name": "stdout",
     "output_type": "stream",
     "text": [
      "[78, 20, 56, 55, 66, 99]\n"
     ]
    }
   ],
   "source": [
    "mark.insert(1,20) #inserting at position 1, with object 20\n",
    "print(mark)"
   ]
  },
  {
   "cell_type": "code",
   "execution_count": 75,
   "metadata": {
    "colab": {
     "base_uri": "https://localhost:8080/"
    },
    "executionInfo": {
     "elapsed": 619,
     "status": "ok",
     "timestamp": 1726482557091,
     "user": {
      "displayName": "Hillary Jude",
      "userId": "17943637264411223929"
     },
     "user_tz": -330
    },
    "id": "-l1-3jkoXfJ_",
    "outputId": "dd197989-85ba-42b8-c730-7d06720c4ddd"
   },
   "outputs": [
    {
     "name": "stdout",
     "output_type": "stream",
     "text": [
      "[20, 55, 56, 66, 78, 99]\n"
     ]
    }
   ],
   "source": [
    "mark.sort() #Sort the list in ascending order and return None.\n",
    "print(mark)\n"
   ]
  },
  {
   "cell_type": "code",
   "execution_count": 76,
   "metadata": {
    "colab": {
     "base_uri": "https://localhost:8080/"
    },
    "executionInfo": {
     "elapsed": 607,
     "status": "ok",
     "timestamp": 1726482639924,
     "user": {
      "displayName": "Hillary Jude",
      "userId": "17943637264411223929"
     },
     "user_tz": -330
    },
    "id": "P0GKYs4RYc-Y",
    "outputId": "b040a534-713a-4ecc-996a-9918e6aa45ca"
   },
   "outputs": [
    {
     "data": {
      "text/plain": [
       "[20, 55, 56, 66, 78, 99]"
      ]
     },
     "execution_count": 76,
     "metadata": {},
     "output_type": "execute_result"
    }
   ],
   "source": [
    "# .sort is a method\n",
    "# sorted() is a function in python\n",
    "sorted(mark)"
   ]
  },
  {
   "cell_type": "code",
   "execution_count": 77,
   "metadata": {
    "colab": {
     "base_uri": "https://localhost:8080/"
    },
    "executionInfo": {
     "elapsed": 619,
     "status": "ok",
     "timestamp": 1726482666044,
     "user": {
      "displayName": "Hillary Jude",
      "userId": "17943637264411223929"
     },
     "user_tz": -330
    },
    "id": "mVNHQ1WRYfTt",
    "outputId": "a433cfd4-00f5-47cd-c11e-b222c63fa158"
   },
   "outputs": [
    {
     "data": {
      "text/plain": [
       "[99, 78, 66, 56, 55, 20]"
      ]
     },
     "execution_count": 77,
     "metadata": {},
     "output_type": "execute_result"
    }
   ],
   "source": [
    "sorted(mark,reverse = True)"
   ]
  },
  {
   "cell_type": "code",
   "execution_count": 78,
   "metadata": {
    "colab": {
     "base_uri": "https://localhost:8080/"
    },
    "executionInfo": {
     "elapsed": 746,
     "status": "ok",
     "timestamp": 1726482927452,
     "user": {
      "displayName": "Hillary Jude",
      "userId": "17943637264411223929"
     },
     "user_tz": -330
    },
    "id": "sKa55S4GZmoa",
    "outputId": "7a6d198c-8e91-42e2-e352-2453e4d92cdf"
   },
   "outputs": [
    {
     "name": "stdout",
     "output_type": "stream",
     "text": [
      "3\n"
     ]
    }
   ],
   "source": [
    "back = 2\n",
    "back += 1 #here back add 1 and updates itself\n",
    "print(back)"
   ]
  },
  {
   "cell_type": "code",
   "execution_count": 79,
   "metadata": {
    "colab": {
     "base_uri": "https://localhost:8080/"
    },
    "executionInfo": {
     "elapsed": 10,
     "status": "ok",
     "timestamp": 1726482951043,
     "user": {
      "displayName": "Hillary Jude",
      "userId": "17943637264411223929"
     },
     "user_tz": -330
    },
    "id": "3OFy0ITlZscH",
    "outputId": "7a25871f-fe88-4308-d39b-15963b30a202"
   },
   "outputs": [
    {
     "name": "stdout",
     "output_type": "stream",
     "text": [
      "1\n"
     ]
    }
   ],
   "source": [
    "back =+ 1\n",
    "print(back) #here back takes the value as +1"
   ]
  },
  {
   "cell_type": "code",
   "execution_count": 80,
   "metadata": {
    "colab": {
     "base_uri": "https://localhost:8080/"
    },
    "executionInfo": {
     "elapsed": 1061,
     "status": "ok",
     "timestamp": 1726483042454,
     "user": {
      "displayName": "Hillary Jude",
      "userId": "17943637264411223929"
     },
     "user_tz": -330
    },
    "id": "gbBJsF5PZvuL",
    "outputId": "5c892751-d6b9-40f0-a0b1-5fc97de0faa3"
   },
   "outputs": [
    {
     "data": {
      "text/plain": [
       "[None, None]"
      ]
     },
     "execution_count": 80,
     "metadata": {},
     "output_type": "execute_result"
    }
   ],
   "source": [
    "[None,None]"
   ]
  },
  {
   "cell_type": "code",
   "execution_count": 81,
   "metadata": {
    "colab": {
     "base_uri": "https://localhost:8080/"
    },
    "executionInfo": {
     "elapsed": 810,
     "status": "ok",
     "timestamp": 1726483062720,
     "user": {
      "displayName": "Hillary Jude",
      "userId": "17943637264411223929"
     },
     "user_tz": -330
    },
    "id": "GDUQkc2naKGl",
    "outputId": "664e43b3-48b0-45d5-f475-798672e473b9"
   },
   "outputs": [
    {
     "data": {
      "text/plain": [
       "list"
      ]
     },
     "execution_count": 81,
     "metadata": {},
     "output_type": "execute_result"
    }
   ],
   "source": [
    "type([None,None])"
   ]
  }
 ],
 "metadata": {
  "colab": {
   "authorship_tag": "ABX9TyM1cyGBQjEIJbfFvdXUAiCO",
   "provenance": []
  },
  "kernelspec": {
   "display_name": "Python 3 (ipykernel)",
   "language": "python",
   "name": "python3"
  },
  "language_info": {
   "codemirror_mode": {
    "name": "ipython",
    "version": 3
   },
   "file_extension": ".py",
   "mimetype": "text/x-python",
   "name": "python",
   "nbconvert_exporter": "python",
   "pygments_lexer": "ipython3",
   "version": "3.12.6"
  }
 },
 "nbformat": 4,
 "nbformat_minor": 4
}
